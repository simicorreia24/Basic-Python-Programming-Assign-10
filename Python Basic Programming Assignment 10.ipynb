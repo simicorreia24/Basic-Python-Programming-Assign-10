{
 "cells": [
  {
   "cell_type": "markdown",
   "metadata": {},
   "source": [
    "## find sum of elements in list"
   ]
  },
  {
   "cell_type": "code",
   "execution_count": 2,
   "metadata": {},
   "outputs": [
    {
     "name": "stdout",
     "output_type": "stream",
     "text": [
      "23\n",
      "45\n",
      "67\n",
      "89\n",
      "100\n",
      "sum of list is: 324\n"
     ]
    }
   ],
   "source": [
    "## Input from user\n",
    "l=[]\n",
    "for i in range(5):\n",
    "    l.append(int(input()))\n",
    "sum = 0\n",
    "for i in l:\n",
    "    sum = sum + i\n",
    "print(\"sum of list is:\",sum)"
   ]
  },
  {
   "cell_type": "markdown",
   "metadata": {},
   "source": [
    "## Multiply all numbers in the list"
   ]
  },
  {
   "cell_type": "code",
   "execution_count": 5,
   "metadata": {},
   "outputs": [
    {
     "name": "stdout",
     "output_type": "stream",
     "text": [
      "1\n",
      "2\n",
      "3\n",
      "4\n",
      "5\n",
      "sum of list is: 120\n"
     ]
    }
   ],
   "source": [
    "## Input from user\n",
    "l=[]\n",
    "for i in range(5):\n",
    "    l.append(int(input()))\n",
    "prod = 1\n",
    "for i in l:\n",
    "    prod = prod * i\n",
    "print(\"sum of list is:\",prod)"
   ]
  },
  {
   "cell_type": "markdown",
   "metadata": {},
   "source": [
    "## find smallest number in a list"
   ]
  },
  {
   "cell_type": "code",
   "execution_count": 6,
   "metadata": {},
   "outputs": [
    {
     "name": "stdout",
     "output_type": "stream",
     "text": [
      "23\n",
      "56\n",
      "89\n",
      "936\n",
      "65\n",
      "Smallest element in the list is: 23\n"
     ]
    }
   ],
   "source": [
    "l=[]\n",
    "for i in range(5):\n",
    "    l.append(int(input()))  \n",
    "smallest = min(l)\n",
    "print(\"Smallest element in the list is:\",smallest)"
   ]
  },
  {
   "cell_type": "markdown",
   "metadata": {},
   "source": [
    "## find largest number in a list"
   ]
  },
  {
   "cell_type": "code",
   "execution_count": 7,
   "metadata": {},
   "outputs": [
    {
     "name": "stdout",
     "output_type": "stream",
     "text": [
      "23\n",
      "56\n",
      "89\n",
      "936\n",
      "65\n",
      "Largest element in the list is: 936\n"
     ]
    }
   ],
   "source": [
    "l=[]\n",
    "for i in range(5):\n",
    "    l.append(int(input()))  \n",
    "largest = max(l)\n",
    "print(\"Largest element in the list is:\",largest)"
   ]
  },
  {
   "cell_type": "markdown",
   "metadata": {},
   "source": [
    "## find second largest number in a list"
   ]
  },
  {
   "cell_type": "code",
   "execution_count": 3,
   "metadata": {
    "scrolled": true
   },
   "outputs": [
    {
     "name": "stdout",
     "output_type": "stream",
     "text": [
      "Enter the number of elements you want to enter in a list: 6\n",
      "12\n",
      "56\n",
      "87\n",
      "1\n",
      "4\n",
      "0\n",
      "Second largest number is 56\n"
     ]
    }
   ],
   "source": [
    "l=[]\n",
    "for i in range(int(input(\"Enter the number of elements you want to enter in a list: \"))):\n",
    "    l.append(int(input()))\n",
    "largest=max(l)\n",
    "l.remove(largest)\n",
    "sl=max(l)\n",
    "print(\"Second largest number is\",sl)"
   ]
  },
  {
   "cell_type": "markdown",
   "metadata": {},
   "source": [
    "## find N largest elements from a list"
   ]
  },
  {
   "cell_type": "code",
   "execution_count": 4,
   "metadata": {},
   "outputs": [
    {
     "name": "stdout",
     "output_type": "stream",
     "text": [
      "Enter the number of elements you want to enter in a list: 5\n",
      "12\n",
      "67\n",
      "43\n",
      "100\n",
      "34\n",
      "Sorted list [100, 67, 43, 34, 12]\n",
      "Enter N= 3\n",
      "The  3 th largest number is = 43\n"
     ]
    }
   ],
   "source": [
    "l=[]\n",
    "for i in range(int(input(\"Enter the number of elements you want to enter in a list: \"))):\n",
    "    l.append(int(input()))\n",
    "l.sort(reverse=True)\n",
    "print(\"Sorted list\",l)\n",
    "input=int(input(\"Enter N= \"))\n",
    "l1=l[input- 1]\n",
    "print(\"The \",input,\"th largest number is =\",l1)\n"
   ]
  },
  {
   "cell_type": "code",
   "execution_count": 45,
   "metadata": {},
   "outputs": [
    {
     "data": {
      "text/plain": [
       "4"
      ]
     },
     "execution_count": 45,
     "metadata": {},
     "output_type": "execute_result"
    }
   ],
   "source": [
    "l= [2,3,56,6,4,9]\n",
    "l.sort()\n",
    "l[2]"
   ]
  },
  {
   "cell_type": "markdown",
   "metadata": {},
   "source": [
    "## print even numbers in a list"
   ]
  },
  {
   "cell_type": "code",
   "execution_count": 6,
   "metadata": {},
   "outputs": [
    {
     "name": "stdout",
     "output_type": "stream",
     "text": [
      "Enter the number of elements you want to enter in a list: 5\n",
      "12\n",
      "23\n",
      "45\n",
      "67\n",
      "80\n",
      "Even numbers are:  [12, 80]\n"
     ]
    }
   ],
   "source": [
    "l=[]\n",
    "l1=[]\n",
    "for i in range(int(input(\"Enter the number of elements you want to enter in a list: \"))):\n",
    "    l.append(int(input()))\n",
    "for i in l:\n",
    "    if i%2==0:\n",
    "        l1.append(i)\n",
    "print(\"Even numbers are: \",l1)        "
   ]
  },
  {
   "cell_type": "markdown",
   "metadata": {},
   "source": [
    "## print odd numbers in a List"
   ]
  },
  {
   "cell_type": "code",
   "execution_count": 1,
   "metadata": {},
   "outputs": [
    {
     "name": "stdout",
     "output_type": "stream",
     "text": [
      "Enter the number of elements you want to enter in a list: 6\n",
      "12\n",
      "34\n",
      "57\n",
      "69\n",
      "70\n",
      "33\n",
      "Odd numbers are:  [57, 69, 33]\n"
     ]
    }
   ],
   "source": [
    "l=[]\n",
    "l1=[]\n",
    "for i in range(int(input(\"Enter the number of elements you want to enter in a list: \"))):\n",
    "    l.append(int(input()))\n",
    "for i in l:\n",
    "    if i%2!=0:\n",
    "        l1.append(i)\n",
    "print(\"Odd numbers are: \",l1)        "
   ]
  },
  {
   "cell_type": "markdown",
   "metadata": {},
   "source": [
    "## Remove empty List from List"
   ]
  },
  {
   "cell_type": "code",
   "execution_count": 13,
   "metadata": {},
   "outputs": [
    {
     "name": "stdout",
     "output_type": "stream",
     "text": [
      "[[1, 2, 3], ['xyz']]\n"
     ]
    }
   ],
   "source": [
    "l=[[],[1,2,3],[\"xyz\"],[]]\n",
    "for i in l:\n",
    "    l.remove([])\n",
    "print(l)"
   ]
  },
  {
   "cell_type": "markdown",
   "metadata": {},
   "source": [
    "## Cloning or Copying a list"
   ]
  },
  {
   "cell_type": "code",
   "execution_count": 30,
   "metadata": {},
   "outputs": [
    {
     "name": "stdout",
     "output_type": "stream",
     "text": [
      "[1, 2, 3, 'Hello', True, [0.786]] [1, 2, 3, 'Hello', True, [0.786]]\n"
     ]
    }
   ],
   "source": [
    "#method 1\n",
    "l = [1,2,3,\"Hello\",True,[0.786]]\n",
    "l1=l\n",
    "print(l1,l)"
   ]
  },
  {
   "cell_type": "code",
   "execution_count": 28,
   "metadata": {},
   "outputs": [
    {
     "name": "stdout",
     "output_type": "stream",
     "text": [
      "Enter the number of elements you want to enter in a list: 5\n",
      "\"hello\"\n",
      "1\n",
      "True\n",
      "0.67\n",
      "23\n",
      "Original list:  ['\"hello\"', '1', 'True', '0.67', '23']\n",
      "Copy of the list:  ['\"hello\"', '1', 'True', '0.67', '23']\n"
     ]
    }
   ],
   "source": [
    "#method 2\n",
    "l=[]\n",
    "for i in range(int(input(\"Enter the number of elements you want to enter in a list: \"))):\n",
    "    l.append((input()))\n",
    "copy_list = l    \n",
    "print(\"Original list: \",l)\n",
    "print(\"Copy of the list: \",copy_list)"
   ]
  },
  {
   "cell_type": "markdown",
   "metadata": {},
   "source": [
    "## Count occurrences of an element in a list"
   ]
  },
  {
   "cell_type": "code",
   "execution_count": 1,
   "metadata": {},
   "outputs": [
    {
     "name": "stdout",
     "output_type": "stream",
     "text": [
      "11\n",
      "22\n",
      "11\n",
      "11\n",
      "11\n",
      "The element you want to count: 11\n",
      "count is 4\n"
     ]
    }
   ],
   "source": [
    "l=[]\n",
    "for i in range(5):\n",
    "    l.append(int(input()))\n",
    "c=l.count(int(input(\"The element you want to count: \")))\n",
    "print(\"count is\",c)"
   ]
  }
 ],
 "metadata": {
  "kernelspec": {
   "display_name": "Python 3",
   "language": "python",
   "name": "python3"
  },
  "language_info": {
   "codemirror_mode": {
    "name": "ipython",
    "version": 3
   },
   "file_extension": ".py",
   "mimetype": "text/x-python",
   "name": "python",
   "nbconvert_exporter": "python",
   "pygments_lexer": "ipython3",
   "version": "3.8.5"
  }
 },
 "nbformat": 4,
 "nbformat_minor": 4
}
